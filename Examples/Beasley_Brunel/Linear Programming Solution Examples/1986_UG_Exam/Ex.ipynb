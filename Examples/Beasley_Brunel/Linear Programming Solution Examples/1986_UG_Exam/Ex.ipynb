{
 "cells": [
  {
   "cell_type": "code",
   "execution_count": 1,
   "metadata": {},
   "outputs": [],
   "source": [
    "from ortools.sat.python import cp_model\n",
    "\n",
    "# Creates the model.\n",
    "model = cp_model.CpModel()"
   ]
  },
  {
   "cell_type": "code",
   "execution_count": 2,
   "metadata": {},
   "outputs": [],
   "source": [
    "# Variables\n",
    "x1 = model.NewIntVar(0, 1000, 'Number of tables')\n",
    "x2 = model.NewIntVar(0, 1000, 'Number of chairs')"
   ]
  },
  {
   "cell_type": "code",
   "execution_count": 3,
   "metadata": {},
   "outputs": [],
   "source": [
    "# constraints (komisch Umformung notwendig, da der Solver keine Brüche mag)\n",
    "c0 = model.Add(6 * x1 + 3 * x2 <= 40) # work time constraint\n",
    "c1 = model.Add(x2 >= 3 * x1) # At least 3 chairs per table\n",
    "c2 = model.Add(x2 + x1 * 4 <= 16) # At most 4 tables in storage, chairs take 1/4 of the space of a table"
   ]
  },
  {
   "cell_type": "code",
   "execution_count": 4,
   "metadata": {},
   "outputs": [],
   "source": [
    "# Objective\n",
    "model.Maximize(30 * x1 + 10 * x2)"
   ]
  },
  {
   "cell_type": "code",
   "execution_count": 5,
   "metadata": {},
   "outputs": [],
   "source": [
    "# Creates a solver and solves the model.\n",
    "solver = cp_model.CpSolver()\n",
    "status = solver.Solve(model)"
   ]
  },
  {
   "cell_type": "code",
   "execution_count": 6,
   "metadata": {},
   "outputs": [
    {
     "name": "stdout",
     "output_type": "stream",
     "text": [
      "Anzahl Tables:  2\n",
      "Anzahl Chairs:  8\n",
      "Maximaler Gewinn:  140.0\n"
     ]
    }
   ],
   "source": [
    "if status == cp_model.OPTIMAL or status == cp_model.FEASIBLE:\n",
    "    print(\"Anzahl Tables: \", solver.Value(x1))\n",
    "    print(\"Anzahl Chairs: \", solver.Value(x2))\n",
    "    print(\"Maximaler Gewinn: \", solver.ObjectiveValue())\n",
    "else:\n",
    "    print(\"No solution found.\")"
   ]
  }
 ],
 "metadata": {
  "kernelspec": {
   "display_name": "Python 3",
   "language": "python",
   "name": "python3"
  },
  "language_info": {
   "codemirror_mode": {
    "name": "ipython",
    "version": 3
   },
   "file_extension": ".py",
   "mimetype": "text/x-python",
   "name": "python",
   "nbconvert_exporter": "python",
   "pygments_lexer": "ipython3",
   "version": "3.10.4"
  }
 },
 "nbformat": 4,
 "nbformat_minor": 2
}
