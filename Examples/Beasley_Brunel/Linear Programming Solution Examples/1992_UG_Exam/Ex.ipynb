{
 "cells": [
  {
   "cell_type": "code",
   "execution_count": 87,
   "metadata": {},
   "outputs": [],
   "source": [
    "from ortools.sat.python import cp_model\n",
    "\n",
    "# Creates the model.\n",
    "model_a = cp_model.CpModel()\n",
    "model_b = cp_model.CpModel()"
   ]
  },
  {
   "cell_type": "code",
   "execution_count": 88,
   "metadata": {},
   "outputs": [],
   "source": [
    "# variables for model_a\n",
    "x1_a = model_a.NewIntVar(0, 10000, 'Anzahl A')\n",
    "x2_a = model_a.NewIntVar(0, 10000, 'Anzahl B')\n",
    "\n",
    "# variables for model_b\n",
    "x1_b = model_b.NewIntVar(0, 10000, 'Anzahl A')\n",
    "x2_b = model_b.NewIntVar(0, 10000, 'Anzahl B')"
   ]
  },
  {
   "cell_type": "code",
   "execution_count": 89,
   "metadata": {},
   "outputs": [],
   "source": [
    "#constraints for model_a\n",
    "c1_A = model_a.Add(12 * x1_a + 25 * x2_a <= 1800)\n",
    "c2_A = model_a.Add(5 * x2_a >= 2 * x1_a)\n",
    "\n",
    "# constraints for model_b\n",
    "c1_B = model_b.Add(12 * x1_b + 25 * x2_b <= 3600) # double the amount of available machine time\n",
    "c2_B = model_b.Add(5 * x2_b >= 2 * x1_b)"
   ]
  },
  {
   "cell_type": "code",
   "execution_count": 90,
   "metadata": {},
   "outputs": [],
   "source": [
    "# objective\n",
    "model_a.Maximize(3 * x1_a + 5 * x2_a)\n",
    "\n",
    "model_b.Maximize(3 * x1_b + 5 * x2_b)"
   ]
  },
  {
   "cell_type": "code",
   "execution_count": 91,
   "metadata": {},
   "outputs": [],
   "source": [
    "# Creates a solver and solves the model.\n",
    "solver_a = cp_model.CpSolver()\n",
    "status_a = solver_a.Solve(model_a)\n",
    "solver_b = cp_model.CpSolver()\n",
    "status_b = solver_b.Solve(model_b)"
   ]
  },
  {
   "cell_type": "code",
   "execution_count": 92,
   "metadata": {},
   "outputs": [
    {
     "name": "stdout",
     "output_type": "stream",
     "text": [
      "Aufgabe A:\n",
      "Anzahl A:  81\n",
      "Anzahl B:  33\n",
      "Maximaler Gewinn:  408.0\n",
      "\n",
      "Aufgabe B:\n",
      "Maximaler Gewinn mit doppelter Maschinenzeit:  816.0\n",
      "Maximaler profitabler Mietpreis: 408.0\n"
     ]
    }
   ],
   "source": [
    "if (status_a == cp_model.OPTIMAL or status_a == cp_model.FEASIBLE) and (status_b == cp_model.OPTIMAL or status_b == cp_model.FEASIBLE):\n",
    "    print(\"Aufgabe A:\")\n",
    "    print(\"Anzahl A: \", solver_a.Value(x1_a))\n",
    "    print(\"Anzahl B: \", solver_a.Value(x2_a))\n",
    "    print(\"Maximaler Gewinn: \", solver_a.ObjectiveValue())\n",
    "    print(\"\\nAufgabe B:\")\n",
    "    print(\"Maximaler Gewinn mit doppelter Maschinenzeit: \", solver_b.ObjectiveValue())\n",
    "    print(\"Maximaler profitabler Mietpreis:\" , solver_b.ObjectiveValue() - solver_a.ObjectiveValue())\n",
    "else:\n",
    "    print(\"No solution found.\")"
   ]
  }
 ],
 "metadata": {
  "kernelspec": {
   "display_name": "Python 3",
   "language": "python",
   "name": "python3"
  },
  "language_info": {
   "codemirror_mode": {
    "name": "ipython",
    "version": 3
   },
   "file_extension": ".py",
   "mimetype": "text/x-python",
   "name": "python",
   "nbconvert_exporter": "python",
   "pygments_lexer": "ipython3",
   "version": "3.7.3"
  }
 },
 "nbformat": 4,
 "nbformat_minor": 2
}
