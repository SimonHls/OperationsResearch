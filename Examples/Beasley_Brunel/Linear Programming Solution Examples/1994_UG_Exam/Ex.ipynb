{
 "cells": [
  {
   "cell_type": "code",
   "execution_count": 1,
   "metadata": {},
   "outputs": [],
   "source": [
    "from ortools.sat.python import cp_model\n",
    "\n",
    "# Creates the model.\n",
    "model = cp_model.CpModel()"
   ]
  },
  {
   "cell_type": "code",
   "execution_count": 2,
   "metadata": {},
   "outputs": [],
   "source": [
    "# Creates the variables.\n",
    "x1 = model.NewIntVar(lb=10, ub=10000, name=\"Amount Item X\") # lb is a constraint x1 >= 10\n",
    "x2 = model.NewIntVar(lb=0, ub=10000, name=\"Amount Item Y\")"
   ]
  },
  {
   "cell_type": "code",
   "execution_count": 3,
   "metadata": {},
   "outputs": [],
   "source": [
    "c1 = model.Add(13 * x1 + 19 * x2 <= 2400) # available machine time\n",
    "c2 = model.Add(20 * x1 + 29 * x2 <= 2100) # available labor time"
   ]
  },
  {
   "cell_type": "code",
   "execution_count": 4,
   "metadata": {},
   "outputs": [],
   "source": [
    "model.Maximize(17.1667 * x1 + 25.8667 * x2)"
   ]
  },
  {
   "cell_type": "code",
   "execution_count": 5,
   "metadata": {},
   "outputs": [],
   "source": [
    "# Creates a solver and solves the model.\n",
    "solver = cp_model.CpSolver()\n",
    "status = solver.Solve(model)"
   ]
  },
  {
   "cell_type": "code",
   "execution_count": 6,
   "metadata": {},
   "outputs": [
    {
     "name": "stdout",
     "output_type": "stream",
     "text": [
      "Anzahl X:  12\n",
      "Anzahl Y:  64\n",
      "Maximaler Gewinn:  1861.4692\n"
     ]
    }
   ],
   "source": [
    "if status == cp_model.OPTIMAL or status == cp_model.FEASIBLE:\n",
    "    print(\"Anzahl X: \", solver.Value(x1))\n",
    "    print(\"Anzahl Y: \", solver.Value(x2))\n",
    "    print(\"Maximaler Gewinn: \", solver.ObjectiveValue())\n",
    "else:\n",
    "    print(\"No solution found.\")\n",
    "    \n",
    "# Note: The \"optimal\" solution is not the one found by the program, but:\n",
    "# x=10 and y=65.52 with the value of the objective function being £1866.5.\n",
    "# However, it is impossible to manufacture a fraction of an item, and the solver only works with integers."
   ]
  }
 ],
 "metadata": {
  "kernelspec": {
   "display_name": "Python 3",
   "language": "python",
   "name": "python3"
  },
  "language_info": {
   "codemirror_mode": {
    "name": "ipython",
    "version": 3
   },
   "file_extension": ".py",
   "mimetype": "text/x-python",
   "name": "python",
   "nbconvert_exporter": "python",
   "pygments_lexer": "ipython3",
   "version": "3.7.3"
  }
 },
 "nbformat": 4,
 "nbformat_minor": 2
}
