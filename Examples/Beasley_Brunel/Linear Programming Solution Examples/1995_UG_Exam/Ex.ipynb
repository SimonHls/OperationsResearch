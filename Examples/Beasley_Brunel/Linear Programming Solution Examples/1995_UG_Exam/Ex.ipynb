{
 "cells": [
  {
   "cell_type": "code",
   "execution_count": 75,
   "metadata": {},
   "outputs": [],
   "source": [
    "import pandas as pd\n",
    "from ortools.sat.python import cp_model\n",
    "import numpy as np"
   ]
  },
  {
   "cell_type": "markdown",
   "metadata": {},
   "source": [
    "### forecast demand"
   ]
  },
  {
   "cell_type": "code",
   "execution_count": 76,
   "metadata": {},
   "outputs": [
    {
     "data": {
      "text/html": [
       "<div>\n",
       "<style scoped>\n",
       "    .dataframe tbody tr th:only-of-type {\n",
       "        vertical-align: middle;\n",
       "    }\n",
       "\n",
       "    .dataframe tbody tr th {\n",
       "        vertical-align: top;\n",
       "    }\n",
       "\n",
       "    .dataframe thead th {\n",
       "        text-align: right;\n",
       "    }\n",
       "</style>\n",
       "<table border=\"1\" class=\"dataframe\">\n",
       "  <thead>\n",
       "    <tr style=\"text-align: right;\">\n",
       "      <th></th>\n",
       "      <th>Week</th>\n",
       "      <th>Demand_1</th>\n",
       "      <th>Demand 2</th>\n",
       "    </tr>\n",
       "  </thead>\n",
       "  <tbody>\n",
       "    <tr>\n",
       "      <th>0</th>\n",
       "      <td>1</td>\n",
       "      <td>23</td>\n",
       "      <td>11</td>\n",
       "    </tr>\n",
       "    <tr>\n",
       "      <th>1</th>\n",
       "      <td>2</td>\n",
       "      <td>27</td>\n",
       "      <td>13</td>\n",
       "    </tr>\n",
       "    <tr>\n",
       "      <th>2</th>\n",
       "      <td>3</td>\n",
       "      <td>34</td>\n",
       "      <td>15</td>\n",
       "    </tr>\n",
       "    <tr>\n",
       "      <th>3</th>\n",
       "      <td>4</td>\n",
       "      <td>40</td>\n",
       "      <td>14</td>\n",
       "    </tr>\n",
       "  </tbody>\n",
       "</table>\n",
       "</div>"
      ],
      "text/plain": [
       "   Week  Demand_1  Demand 2\n",
       "0     1        23        11\n",
       "1     2        27        13\n",
       "2     3        34        15\n",
       "3     4        40        14"
      ]
     },
     "execution_count": 76,
     "metadata": {},
     "output_type": "execute_result"
    }
   ],
   "source": [
    "demand_table = pd.DataFrame({\n",
    "    'Week' : [1, 2, 3, 4],\n",
    "    'Demand_1' : [23, 27,34,40],\n",
    "    'Demand 2' : [11, 13, 15, 14]\n",
    "})\n",
    "demand_table"
   ]
  },
  {
   "cell_type": "code",
   "execution_count": 77,
   "metadata": {},
   "outputs": [],
   "source": [
    "# Mt = µYt + (1- µ)Mt-1\n",
    "def Mt(mu, Yt, Mt_prev):\n",
    "    return mu * Yt + (1-mu)*Mt_prev"
   ]
  },
  {
   "cell_type": "code",
   "execution_count": 78,
   "metadata": {},
   "outputs": [],
   "source": [
    "def forecast_with_exponential_smoothing(df_column, mu):\n",
    "    forecast = [df_column[0]] # initial forecast is the first value in the column\n",
    "    for i in range(1, len(df_column)):\n",
    "        forecast.append(Mt(mu, df_column[i], forecast[i-1])) \n",
    "    return forecast"
   ]
  },
  {
   "cell_type": "code",
   "execution_count": 79,
   "metadata": {},
   "outputs": [
    {
     "data": {
      "text/plain": [
       "[23, 25.8, 31.54, 37.462]"
      ]
     },
     "execution_count": 79,
     "metadata": {},
     "output_type": "execute_result"
    }
   ],
   "source": [
    "forecast_1 = forecast_with_exponential_smoothing(demand_table['Demand_1'], 0.7)\n",
    "forecast_1"
   ]
  },
  {
   "cell_type": "code",
   "execution_count": 80,
   "metadata": {},
   "outputs": [
    {
     "data": {
      "text/plain": [
       "[11, 12.4, 14.22, 14.065999999999999]"
      ]
     },
     "execution_count": 80,
     "metadata": {},
     "output_type": "execute_result"
    }
   ],
   "source": [
    "forecast_2 = forecast_with_exponential_smoothing(demand_table['Demand 2'], 0.7)\n",
    "forecast_2"
   ]
  },
  {
   "cell_type": "code",
   "execution_count": 81,
   "metadata": {},
   "outputs": [
    {
     "name": "stdout",
     "output_type": "stream",
     "text": [
      "Predicted demand 1: 37, Predicted demand 2: 14\n"
     ]
    }
   ],
   "source": [
    "predicted_demand_1 = np.round(forecast_1[-1]).astype(int)\n",
    "predicted_demand_2 = np.round(forecast_2[-1]).astype(int)\n",
    "print(f'Predicted demand 1: {predicted_demand_1}, Predicted demand 2: {predicted_demand_2}')"
   ]
  },
  {
   "cell_type": "markdown",
   "metadata": {},
   "source": [
    "### build and solve LP model"
   ]
  },
  {
   "cell_type": "code",
   "execution_count": 82,
   "metadata": {},
   "outputs": [],
   "source": [
    "model = cp_model.CpModel()"
   ]
  },
  {
   "cell_type": "code",
   "execution_count": 83,
   "metadata": {},
   "outputs": [],
   "source": [
    "x1 = model.NewIntVar(lb=0, ub=10000, name='Produced amount P1')\n",
    "x2 = model.NewIntVar(lb=0, ub=10000, name='Produced amount P2')"
   ]
  },
  {
   "cell_type": "code",
   "execution_count": 84,
   "metadata": {},
   "outputs": [],
   "source": [
    "# constraints\n",
    "\n",
    "# available machine time\n",
    "c1 = model.Add(10 * x1 + 4 * x2 <= 1200) # machine X\n",
    "c2 = model.Add(25 * x1 + 45 * x2 <= 900) # machine Y\n",
    "\n",
    "# demand \n",
    "c3 = model.Add(x1 <= predicted_demand_1)\n",
    "c4 = model.Add(x2 <= predicted_demand_2)"
   ]
  },
  {
   "cell_type": "code",
   "execution_count": 85,
   "metadata": {},
   "outputs": [],
   "source": [
    "# objective\n",
    "model.Maximize(10 * x1 + 4 * x2 - (37 - x1) * 3 - (14 - x2))"
   ]
  },
  {
   "cell_type": "code",
   "execution_count": 86,
   "metadata": {},
   "outputs": [],
   "source": [
    "# solve model\n",
    "solver = cp_model.CpSolver()\n",
    "status = solver.Solve(model)"
   ]
  },
  {
   "cell_type": "code",
   "execution_count": 88,
   "metadata": {},
   "outputs": [
    {
     "name": "stdout",
     "output_type": "stream",
     "text": [
      "Anzahl P1:  36\n",
      "Anzahl P2:  0\n",
      "Maximaler Gewinn:  343.0\n"
     ]
    }
   ],
   "source": [
    "if status == cp_model.OPTIMAL or status == cp_model.FEASIBLE:\n",
    "    print(\"Anzahl P1: \", solver.Value(x1))\n",
    "    print(\"Anzahl P2: \", solver.Value(x2))\n",
    "    print(\"Maximaler Gewinn: \", solver.ObjectiveValue())\n",
    "else:\n",
    "    print(\"No solution found.\")"
   ]
  }
 ],
 "metadata": {
  "kernelspec": {
   "display_name": "Python 3",
   "language": "python",
   "name": "python3"
  },
  "language_info": {
   "codemirror_mode": {
    "name": "ipython",
    "version": 3
   },
   "file_extension": ".py",
   "mimetype": "text/x-python",
   "name": "python",
   "nbconvert_exporter": "python",
   "pygments_lexer": "ipython3",
   "version": "3.7.3"
  }
 },
 "nbformat": 4,
 "nbformat_minor": 2
}
