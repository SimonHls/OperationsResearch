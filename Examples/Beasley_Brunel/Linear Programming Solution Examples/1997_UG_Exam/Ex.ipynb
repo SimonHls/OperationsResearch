{
 "cells": [
  {
   "cell_type": "code",
   "execution_count": 16,
   "metadata": {},
   "outputs": [],
   "source": [
    "from ortools.sat.python import cp_model\n",
    "\n",
    "# Creates the model.\n",
    "model = cp_model.CpModel()"
   ]
  },
  {
   "cell_type": "code",
   "execution_count": 17,
   "metadata": {},
   "outputs": [],
   "source": [
    "# variables\n",
    "x1 = model.NewIntVar(0, 10000, 'Anzahl X')\n",
    "x2 = model.NewIntVar(0, 10000, 'Anzahl Y')"
   ]
  },
  {
   "cell_type": "code",
   "execution_count": 18,
   "metadata": {},
   "outputs": [],
   "source": [
    "# constraints\n",
    "c1 = model.Add(50 * x1 + 24 * x2 <= 2400)\n",
    "c2 = model.Add(30 * x1 + 33 * x2 <= 2100)\n",
    "c3 = model.Add(x1 >= 45)\n",
    "c4 = model.Add(x2 >= 5)"
   ]
  },
  {
   "cell_type": "code",
   "execution_count": 19,
   "metadata": {},
   "outputs": [],
   "source": [
    "# objective\n",
    "model.Maximize(x1 + x2 - 50)"
   ]
  },
  {
   "cell_type": "code",
   "execution_count": 20,
   "metadata": {},
   "outputs": [],
   "source": [
    "# Creates a solver and solves the model.\n",
    "solver = cp_model.CpSolver()\n",
    "status = solver.Solve(model)"
   ]
  },
  {
   "cell_type": "code",
   "execution_count": 21,
   "metadata": {},
   "outputs": [
    {
     "name": "stdout",
     "output_type": "stream",
     "text": [
      "Anzahl X:  45\n",
      "Anzahl Y:  6\n",
      "Maximaler Lagerbestand:  1.0\n"
     ]
    }
   ],
   "source": [
    "if status == cp_model.OPTIMAL or status == cp_model.FEASIBLE:\n",
    "    print(\"Anzahl X: \", solver.Value(x1))\n",
    "    print(\"Anzahl Y: \", solver.Value(x2))\n",
    "    print(\"Maximaler Lagerbestand: \", solver.ObjectiveValue())\n",
    "else:\n",
    "    print(\"No solution found.\")"
   ]
  }
 ],
 "metadata": {
  "kernelspec": {
   "display_name": "Python 3",
   "language": "python",
   "name": "python3"
  },
  "language_info": {
   "codemirror_mode": {
    "name": "ipython",
    "version": 3
   },
   "file_extension": ".py",
   "mimetype": "text/x-python",
   "name": "python",
   "nbconvert_exporter": "python",
   "pygments_lexer": "ipython3",
   "version": "3.7.3"
  }
 },
 "nbformat": 4,
 "nbformat_minor": 2
}
