{
 "cells": [
  {
   "cell_type": "code",
   "execution_count": 17,
   "metadata": {},
   "outputs": [],
   "source": [
    "from ortools.sat.python import cp_model\n",
    "\n",
    "# Creates the model.\n",
    "model = cp_model.CpModel()"
   ]
  },
  {
   "cell_type": "code",
   "execution_count": 18,
   "metadata": {},
   "outputs": [],
   "source": [
    "# create variables\n",
    "x1 = model.NewIntVar(lb=0, ub=100000, name='x1')\n",
    "x2 = model.NewIntVar(lb=0, ub=100000, name='x2')"
   ]
  },
  {
   "cell_type": "code",
   "execution_count": 19,
   "metadata": {},
   "outputs": [],
   "source": [
    "# create constraints\n",
    "cons1 = model.Add(20*x1 + 30*x2 >= 3000) # transport all refrigerated goods\n",
    "cons2 = model.Add(40*x1 + 30*x2 >= 4000) # transport all non-refrigerated goods"
   ]
  },
  {
   "cell_type": "code",
   "execution_count": 20,
   "metadata": {},
   "outputs": [],
   "source": [
    "# objective\n",
    "model.Minimize(30*x1 + 40*x2)"
   ]
  },
  {
   "cell_type": "code",
   "execution_count": 21,
   "metadata": {},
   "outputs": [],
   "source": [
    "# solve\n",
    "solver = cp_model.CpSolver()\n",
    "status = solver.Solve(model)"
   ]
  },
  {
   "cell_type": "code",
   "execution_count": 22,
   "metadata": {},
   "outputs": [
    {
     "name": "stdout",
     "output_type": "stream",
     "text": [
      "Anzahl TYP_A:  51\n",
      "Anzahl TYP_B:  66\n",
      "Minimaler Preis:  4170.0\n"
     ]
    }
   ],
   "source": [
    "# print solution\n",
    "if status == cp_model.OPTIMAL or status == cp_model.FEASIBLE:\n",
    "    print(\"Anzahl TYP_A: \", solver.Value(x1))\n",
    "    print(\"Anzahl TYP_B: \", solver.Value(x2))\n",
    "    print(\"Minimaler Preis: \", solver.ObjectiveValue())"
   ]
  }
 ],
 "metadata": {
  "kernelspec": {
   "display_name": "Python 3",
   "language": "python",
   "name": "python3"
  },
  "language_info": {
   "codemirror_mode": {
    "name": "ipython",
    "version": 3
   },
   "file_extension": ".py",
   "mimetype": "text/x-python",
   "name": "python",
   "nbconvert_exporter": "python",
   "pygments_lexer": "ipython3",
   "version": "3.7.3"
  }
 },
 "nbformat": 4,
 "nbformat_minor": 2
}
