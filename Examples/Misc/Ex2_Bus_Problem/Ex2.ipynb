{
 "cells": [
  {
   "cell_type": "code",
   "execution_count": 22,
   "metadata": {},
   "outputs": [],
   "source": [
    "from ortools.sat.python import cp_model"
   ]
  },
  {
   "cell_type": "code",
   "execution_count": 23,
   "metadata": {},
   "outputs": [],
   "source": [
    "# Creates the model.\n",
    "model = cp_model.CpModel()"
   ]
  },
  {
   "cell_type": "code",
   "execution_count": 24,
   "metadata": {},
   "outputs": [],
   "source": [
    "# create variables\n",
    "x1 = model.NewIntVar(lb=0, ub=10, name=\"Anzahl Bus A\")\n",
    "x2 = model.NewIntVar(lb=0, ub=8, name=\"Anzahl Bus B\")"
   ]
  },
  {
   "cell_type": "code",
   "execution_count": 25,
   "metadata": {},
   "outputs": [],
   "source": [
    "# constraints\n",
    "cons1 = model.Add(x1 <= 10) # Anzahl verfügbare Busse Typ A\n",
    "cons2 = model.Add(x2 <= 8) # Anzahl verfügbare Busse Typ B\n",
    "cons3 = model.Add(x1 + x2 <= 9) # Anzahl verfügbarer Fahrer\n",
    "cons4 = model.Add(50*x1 + 40*x2 >= 400) # Mindestanzahl Fahrgäste"
   ]
  },
  {
   "cell_type": "code",
   "execution_count": 26,
   "metadata": {},
   "outputs": [],
   "source": [
    "# objective\n",
    "model.Minimize(800*x1 + 600*x2)"
   ]
  },
  {
   "cell_type": "code",
   "execution_count": 27,
   "metadata": {},
   "outputs": [],
   "source": [
    "# solve\n",
    "solver = cp_model.CpSolver()\n",
    "status = solver.Solve(model)"
   ]
  },
  {
   "cell_type": "code",
   "execution_count": 30,
   "metadata": {},
   "outputs": [
    {
     "name": "stdout",
     "output_type": "stream",
     "text": [
      "Anzahl Bus A:  4\n",
      "Anzahl Bus B:  5\n",
      "Kosten:  6200.0\n"
     ]
    }
   ],
   "source": [
    "# print solution\n",
    "if status == cp_model.OPTIMAL or status == cp_model.FEASIBLE:\n",
    "    print(\"Anzahl Bus A: \", solver.Value(x1))\n",
    "    print(\"Anzahl Bus B: \", solver.Value(x2))\n",
    "    print(\"Kosten: \", solver.ObjectiveValue())"
   ]
  }
 ],
 "metadata": {
  "kernelspec": {
   "display_name": "Python 3",
   "language": "python",
   "name": "python3"
  },
  "language_info": {
   "codemirror_mode": {
    "name": "ipython",
    "version": 3
   },
   "file_extension": ".py",
   "mimetype": "text/x-python",
   "name": "python",
   "nbconvert_exporter": "python",
   "pygments_lexer": "ipython3",
   "version": "3.7.3"
  }
 },
 "nbformat": 4,
 "nbformat_minor": 2
}
