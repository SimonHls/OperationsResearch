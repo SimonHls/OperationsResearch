{
 "cells": [
  {
   "cell_type": "code",
   "execution_count": 19,
   "metadata": {},
   "outputs": [],
   "source": [
    "from ortools.sat.python import cp_model\n",
    "\n",
    "# Creates the model.\n",
    "model = cp_model.CpModel()"
   ]
  },
  {
   "cell_type": "code",
   "execution_count": 20,
   "metadata": {},
   "outputs": [],
   "source": [
    "# create variables\n",
    "x1 = model.NewIntVar(lb=20, ub=100000, name='x1')\n",
    "x2 = model.NewIntVar(lb=10, ub=100000, name='x2')"
   ]
  },
  {
   "cell_type": "code",
   "execution_count": 21,
   "metadata": {},
   "outputs": [],
   "source": [
    "# constraints\n",
    "# cons1 = model.Add(x1 >= 20) # redundant due to variable definition lb\n",
    "# cons2 = model.Add(x2 >= 10) # redundant due to variable definition lb\n",
    "cons3 = model.Add(x1 + 3*x2 <= 200) # available shirts\n",
    "cons4 = model.Add(x1 + x2 <= 100) # available pants"
   ]
  },
  {
   "cell_type": "code",
   "execution_count": 22,
   "metadata": {},
   "outputs": [],
   "source": [
    "# objective\n",
    "model.Maximize(30*x1 + 50*x2)"
   ]
  },
  {
   "cell_type": "code",
   "execution_count": 23,
   "metadata": {},
   "outputs": [],
   "source": [
    "# solve\n",
    "solver = cp_model.CpSolver()\n",
    "status = solver.Solve(model)"
   ]
  },
  {
   "cell_type": "code",
   "execution_count": 24,
   "metadata": {},
   "outputs": [
    {
     "name": "stdout",
     "output_type": "stream",
     "text": [
      "Anzahl A:  50\n",
      "Anzahl B:  50\n",
      "Maximaler Gewinn:  4000.0\n"
     ]
    }
   ],
   "source": [
    "if status == cp_model.OPTIMAL or status == cp_model.FEASIBLE:\n",
    "    print(\"Anzahl A: \", solver.Value(x1))\n",
    "    print(\"Anzahl B: \", solver.Value(x2))\n",
    "    print(\"Maximaler Gewinn: \", solver.ObjectiveValue())"
   ]
  }
 ],
 "metadata": {
  "kernelspec": {
   "display_name": "Python 3",
   "language": "python",
   "name": "python3"
  },
  "language_info": {
   "codemirror_mode": {
    "name": "ipython",
    "version": 3
   },
   "file_extension": ".py",
   "mimetype": "text/x-python",
   "name": "python",
   "nbconvert_exporter": "python",
   "pygments_lexer": "ipython3",
   "version": "3.7.3"
  }
 },
 "nbformat": 4,
 "nbformat_minor": 2
}
