{
 "cells": [
  {
   "cell_type": "code",
   "execution_count": 19,
   "metadata": {},
   "outputs": [],
   "source": [
    "from ortools.sat.python import cp_model\n",
    "\n",
    "# Creates the model.\n",
    "model = cp_model.CpModel()"
   ]
  },
  {
   "cell_type": "code",
   "execution_count": 20,
   "metadata": {},
   "outputs": [],
   "source": [
    "# Creates the variables.\n",
    "x1 = model.NewIntVar(lb=0, ub=100000, name=\"Amount Type A\")\n",
    "x2 = model.NewIntVar(lb=0, ub=100000, name=\"Amount Type B\")"
   ]
  },
  {
   "cell_type": "code",
   "execution_count": 21,
   "metadata": {},
   "outputs": [],
   "source": [
    "# Creates the constraints.\n",
    "cons1 = model.Add(20 * x1 + 10 * x2 <= 200)\n",
    "cons2 = model.Add(10 * x1 + 20 * x2 <= 120)\n",
    "cons3 = model.Add(10 * x1 + 30 * x2 <= 150)"
   ]
  },
  {
   "cell_type": "code",
   "execution_count": 22,
   "metadata": {},
   "outputs": [],
   "source": [
    "# Creates the objective function.\n",
    "model.Maximize(5 * x1 + 12 * x2)"
   ]
  },
  {
   "cell_type": "code",
   "execution_count": 23,
   "metadata": {},
   "outputs": [],
   "source": [
    "# Creates a solver and solves the model.\n",
    "solver = cp_model.CpSolver()\n",
    "status = solver.Solve(model)"
   ]
  },
  {
   "cell_type": "code",
   "execution_count": 24,
   "metadata": {},
   "outputs": [
    {
     "name": "stdout",
     "output_type": "stream",
     "text": [
      "Anzahl A:  6\n",
      "Anzahl B:  3\n",
      "Maximaler Gewinn:  66.0\n"
     ]
    }
   ],
   "source": [
    "if status == cp_model.OPTIMAL or status == cp_model.FEASIBLE:\n",
    "    print(\"Anzahl A: \", solver.Value(x1))\n",
    "    print(\"Anzahl B: \", solver.Value(x2))\n",
    "    print(\"Maximaler Gewinn: \", solver.ObjectiveValue())"
   ]
  }
 ],
 "metadata": {
  "kernelspec": {
   "display_name": "Python 3",
   "language": "python",
   "name": "python3"
  },
  "language_info": {
   "codemirror_mode": {
    "name": "ipython",
    "version": 3
   },
   "file_extension": ".py",
   "mimetype": "text/x-python",
   "name": "python",
   "nbconvert_exporter": "python",
   "pygments_lexer": "ipython3",
   "version": "3.7.3"
  }
 },
 "nbformat": 4,
 "nbformat_minor": 2
}
