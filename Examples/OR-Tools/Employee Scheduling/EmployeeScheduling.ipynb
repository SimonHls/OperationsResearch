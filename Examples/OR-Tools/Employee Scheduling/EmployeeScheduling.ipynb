{
 "cells": [
  {
   "cell_type": "markdown",
   "metadata": {},
   "source": [
    "### Employee Scheduling\n",
    "\n",
    "Example from Googles OR-Tools docs with some notes for clarity. [The original problem is available under this link](https://developers.google.com/optimization/scheduling/employee_scheduling).\n",
    "\n",
    "We're trying to create a work schedule for four nurses over three days, with these conditions:\n",
    "\n",
    "- Each day is divided into three 8-hour shifts.\n",
    "- Every day, each shift is assigned to a single nurse, and no nurse works more than one shift.\n",
    "- Each nurse is assigned to at least two shifts during the three-day period\n",
    "\n",
    "This means we don't try to solve for any objective function, instead we are only interested in finding viable solutions.\n",
    "\n",
    "After finding viable solutions, we will also look at a way of planning for preferred shift assignments."
   ]
  },
  {
   "cell_type": "code",
   "execution_count": 81,
   "metadata": {},
   "outputs": [],
   "source": [
    "from ortools.sat.python import cp_model"
   ]
  },
  {
   "cell_type": "code",
   "execution_count": 82,
   "metadata": {},
   "outputs": [],
   "source": [
    "num_nurses = 4\n",
    "num_shifts = 3\n",
    "num_days = 3\n",
    "all_nurses = range(num_nurses)\n",
    "all_shifts = range(num_shifts)\n",
    "all_days = range(num_days)"
   ]
  },
  {
   "cell_type": "code",
   "execution_count": 83,
   "metadata": {},
   "outputs": [],
   "source": [
    "model = cp_model.CpModel()"
   ]
  },
  {
   "cell_type": "markdown",
   "metadata": {},
   "source": [
    "### Variables\n",
    "we create a dict shifts with the key being a tuple describing if nurse n is assigned to shift s on day d.\n",
    "\n",
    "(1, 1, 1): NewBoolVar(\"shift_n1_d1_s1\"), -> True means Nurse on is working shift 1 on day one"
   ]
  },
  {
   "cell_type": "code",
   "execution_count": 84,
   "metadata": {},
   "outputs": [
    {
     "name": "stdout",
     "output_type": "stream",
     "text": [
      "{(0, 0, 0): shift_n0_d0_s0(0..1), (0, 0, 1): shift_n0_d0_s1(0..1), (0, 0, 2): shift_n0_d0_s2(0..1)}\n"
     ]
    }
   ],
   "source": [
    "shifts = {}\n",
    "for n in all_nurses:\n",
    "    for d in all_days:\n",
    "        for s in all_shifts:\n",
    "            shifts[(n, d, s)] = model.NewBoolVar(f\"shift_n{n}_d{d}_s{s}\")\n",
    "\n",
    "print({k: shifts[k] for k in list(shifts)[:3]})"
   ]
  },
  {
   "cell_type": "markdown",
   "metadata": {},
   "source": [
    "### Constraints\n",
    "\n",
    "The following is very cool! The solver contains some methods which make it very easy to uphold our constraints:\n",
    "\n",
    "1. Each shift is assigned to a single nurse per day.\n",
    "2. Each nurse works at most one shift per day.\n",
    "\n",
    "**Constraint 1** can easily be achieved by using the method model.AddExactlyOne().\n",
    "\n",
    "For each day and each shift, we add a constraint. The constraint contains that only one of the bool vars within the constraint is allowed to be true. In our case, these bool vars are telling us whether a nurse is assigned to a shift.\n",
    "\n",
    "**Constraint 2** can be achieved using model.AddAtMostOne()\n",
    "\n",
    "For each of our nurses, we look at each day. Inside this day, we are only allowed to set one (or less) of the shift assignments to True.\n",
    "\n"
   ]
  },
  {
   "cell_type": "code",
   "execution_count": 85,
   "metadata": {},
   "outputs": [],
   "source": [
    "# Each shift is assigned to a single nurse per day.\n",
    "for d in all_days:\n",
    "    for s in all_shifts:\n",
    "        model.AddExactlyOne(shifts[(n, d, s)] for n in all_nurses)"
   ]
  },
  {
   "cell_type": "code",
   "execution_count": 86,
   "metadata": {},
   "outputs": [],
   "source": [
    "# Each nurse works at most one shift per day. 0 is also a valid number of shifts.\n",
    "for n in all_nurses:\n",
    "    for d in all_days:\n",
    "        model.AddAtMostOne(shifts[(n, d, s)] for s in all_shifts)"
   ]
  },
  {
   "cell_type": "markdown",
   "metadata": {},
   "source": [
    "We want to assign shifts as evenly as possible. For that, we calculate the minimum number of shifts per nurse.\n",
    "\n",
    "We then check if the total number of shifts divided by the number of nurses is even. If it is, that means we can assign the same number of shifts to each nurse. If it isn't, we have to add one slack shift to the maximum shifts per nurse, since extra shifts are required."
   ]
  },
  {
   "cell_type": "code",
   "execution_count": 87,
   "metadata": {},
   "outputs": [],
   "source": [
    "# The minimum number of shifts per nurse is the total number of shifts divided by the number of nurses.\n",
    "# Note: // is integer division in Python, so it returns an integer even if the division has a remainder.\n",
    "min_shifts_per_nurse = (num_shifts * num_days) // num_nurses\n",
    "\n",
    "# Here we find out if we can assign the shifts evenly or if we need to assign one more shift to some nurses.\n",
    "if num_shifts * num_days % num_nurses == 0:\n",
    "    max_shifts_per_nurse = min_shifts_per_nurse\n",
    "else:\n",
    "    max_shifts_per_nurse = min_shifts_per_nurse + 1\n",
    "\n",
    "# Each nurse works between min_shifts_per_nurse and max_shifts_per_nurse shifts.\n",
    "# For every nurse, we go through all days and all shifts and add the shifts to a list.\n",
    "# Then we add a constraint that the number of shifts worked by the nurse is between min_shifts_per_nurse and max_shifts_per_nurse.\n",
    "# the sum of shifts worked can be used since it represents booleans, which are 1 if the shift is worked and 0 if it is not.\n",
    "for n in all_nurses:\n",
    "    shifts_worked = []\n",
    "    for d in all_days:\n",
    "        for s in all_shifts:\n",
    "            shifts_worked.append(shifts[(n, d, s)])\n",
    "    model.Add(min_shifts_per_nurse <= sum(shifts_worked))\n",
    "    model.Add(sum(shifts_worked) <= max_shifts_per_nurse) # ensures no nurse is assigned more than max_shifts_per_nurse"
   ]
  },
  {
   "cell_type": "markdown",
   "metadata": {},
   "source": [
    "### Objective\n",
    "\n",
    "We are not optimizing, but are interested in viable solutions. Therefore, wo don't have an objective function. Instead, we want to get all solutions."
   ]
  },
  {
   "cell_type": "code",
   "execution_count": 88,
   "metadata": {},
   "outputs": [],
   "source": [
    "solver = cp_model.CpSolver()\n",
    "solver.parameters.linearization_level = 0\n",
    "# Enumerate all solutions.\n",
    "solver.parameters.enumerate_all_solutions = True"
   ]
  },
  {
   "cell_type": "markdown",
   "metadata": {},
   "source": [
    "### Solution Callback\n",
    "\n",
    "A solution callback is a way of telling the solver what to do when it finds a solution. In our case, every time we find a solution, we will print it. It follows a certain structure, another example can be found [here](https://developers.google.com/optimization/cp/cp_solver)."
   ]
  },
  {
   "cell_type": "code",
   "execution_count": 89,
   "metadata": {},
   "outputs": [],
   "source": [
    "class NursesPartialSolutionPrinter(cp_model.CpSolverSolutionCallback):\n",
    "    \"\"\"Print intermediate solutions.\"\"\"\n",
    "\n",
    "    def __init__(self, shifts, num_nurses, num_days, num_shifts, limit):\n",
    "        cp_model.CpSolverSolutionCallback.__init__(self)\n",
    "        self._shifts = shifts\n",
    "        self._num_nurses = num_nurses\n",
    "        self._num_days = num_days\n",
    "        self._num_shifts = num_shifts\n",
    "        self._solution_count = 0\n",
    "        self._solution_limit = limit\n",
    "\n",
    "    # This function is called at each new solution.\n",
    "    def on_solution_callback(self):\n",
    "        self._solution_count += 1\n",
    "        print(f\"Solution {self._solution_count}\")\n",
    "        for d in range(self._num_days):\n",
    "            print(f\"Day {d}\")\n",
    "            for n in range(self._num_nurses):\n",
    "                is_working = False\n",
    "                for s in range(self._num_shifts):\n",
    "                    if self.Value(self._shifts[(n, d, s)]):\n",
    "                        is_working = True\n",
    "                        print(f\"  Nurse {n} works shift {s}\")\n",
    "                if not is_working:\n",
    "                    print(f\"  Nurse {n} does not work\")\n",
    "        if self._solution_count >= self._solution_limit:\n",
    "            print(f\"Stop search after {self._solution_limit} solutions\")\n",
    "            self.StopSearch()\n",
    "\n",
    "    def solutionCount(self):\n",
    "        return self._solution_count\n",
    "\n",
    "# We print two solutions.\n",
    "solution_limit = 2\n",
    "solution_printer = NursesPartialSolutionPrinter(\n",
    "    shifts, num_nurses, num_days, num_shifts, solution_limit\n",
    ")"
   ]
  },
  {
   "cell_type": "code",
   "execution_count": 90,
   "metadata": {},
   "outputs": [
    {
     "name": "stdout",
     "output_type": "stream",
     "text": [
      "Solution 1\n",
      "Day 0\n",
      "  Nurse 0 does not work\n",
      "  Nurse 1 works shift 0\n",
      "  Nurse 2 works shift 1\n",
      "  Nurse 3 works shift 2\n",
      "Day 1\n",
      "  Nurse 0 works shift 2\n",
      "  Nurse 1 does not work\n",
      "  Nurse 2 works shift 1\n",
      "  Nurse 3 works shift 0\n",
      "Day 2\n",
      "  Nurse 0 works shift 2\n",
      "  Nurse 1 works shift 1\n",
      "  Nurse 2 works shift 0\n",
      "  Nurse 3 does not work\n",
      "Solution 2\n",
      "Day 0\n",
      "  Nurse 0 works shift 0\n",
      "  Nurse 1 does not work\n",
      "  Nurse 2 works shift 1\n",
      "  Nurse 3 works shift 2\n",
      "Day 1\n",
      "  Nurse 0 does not work\n",
      "  Nurse 1 works shift 2\n",
      "  Nurse 2 works shift 1\n",
      "  Nurse 3 works shift 0\n",
      "Day 2\n",
      "  Nurse 0 works shift 2\n",
      "  Nurse 1 works shift 1\n",
      "  Nurse 2 works shift 0\n",
      "  Nurse 3 does not work\n",
      "Stop search after 2 solutions\n"
     ]
    },
    {
     "data": {
      "text/plain": [
       "2"
      ]
     },
     "execution_count": 90,
     "metadata": {},
     "output_type": "execute_result"
    }
   ],
   "source": [
    "solver.Solve(model, solution_printer)"
   ]
  },
  {
   "cell_type": "markdown",
   "metadata": {},
   "source": [
    "### Shift requests\n",
    "\n",
    "Nurses sometimes prefer working specific shifts. We can take that into account."
   ]
  },
  {
   "cell_type": "code",
   "execution_count": 91,
   "metadata": {},
   "outputs": [],
   "source": [
    "from typing import Union"
   ]
  },
  {
   "cell_type": "code",
   "execution_count": 92,
   "metadata": {},
   "outputs": [],
   "source": [
    "num_nurses = 5\n",
    "num_shifts = 3\n",
    "num_days = 7\n",
    "all_nurses = range(num_nurses)\n",
    "all_shifts = range(num_shifts)\n",
    "all_days = range(num_days)\n",
    "# the columns are the days, the rows are the nurses, the list inside the rows represent the shifts.\n",
    "# [0, 0, 1] means the nurse is requesting the third shift on the day.\n",
    "shift_requests = [\n",
    "    [[0, 0, 1], [0, 0, 0], [0, 0, 0], [0, 0, 0], [0, 0, 1], [0, 1, 0], [0, 0, 1]],\n",
    "    [[0, 0, 0], [0, 0, 0], [0, 1, 0], [0, 1, 0], [1, 0, 0], [0, 0, 0], [0, 0, 1]],\n",
    "    [[0, 1, 0], [0, 1, 0], [0, 0, 0], [1, 0, 0], [0, 0, 0], [0, 1, 0], [0, 0, 0]],\n",
    "    [[0, 0, 1], [0, 0, 0], [1, 0, 0], [0, 1, 0], [0, 0, 0], [1, 0, 0], [0, 0, 0]],\n",
    "    [[0, 0, 0], [0, 0, 1], [0, 1, 0], [0, 0, 0], [1, 0, 0], [0, 1, 0], [0, 0, 0]],\n",
    "]"
   ]
  },
  {
   "cell_type": "code",
   "execution_count": 93,
   "metadata": {},
   "outputs": [],
   "source": [
    "model = cp_model.CpModel()"
   ]
  },
  {
   "cell_type": "markdown",
   "metadata": {},
   "source": [
    "### Variables\n",
    "The variables are the same as in the first example."
   ]
  },
  {
   "cell_type": "code",
   "execution_count": 94,
   "metadata": {},
   "outputs": [],
   "source": [
    "shifts = {}\n",
    "for n in all_nurses:\n",
    "    for d in all_days:\n",
    "        for s in all_shifts:\n",
    "            shifts[(n, d, s)] = model.NewBoolVar(f\"shift_n{n}_d{d}_s{s}\")"
   ]
  },
  {
   "cell_type": "markdown",
   "metadata": {},
   "source": [
    "### Constraints\n",
    "\n",
    "Constraints 1 and 2 are the same as in the first example."
   ]
  },
  {
   "cell_type": "code",
   "execution_count": 95,
   "metadata": {},
   "outputs": [],
   "source": [
    "# Each nurse is only allowed to work one or zero shifts for each day\n",
    "for n in all_nurses:\n",
    "    for d in all_days:\n",
    "        model.AddAtMostOne(shifts[(n, d, s)] for s in all_shifts)\n",
    "   \n",
    "# Each shift has exactly one nurse assigned to it.\n",
    "for d in all_days:\n",
    "    for s in all_shifts:\n",
    "        model.AddExactlyOne(shifts[(n, d, s)] for n in all_nurses)"
   ]
  },
  {
   "cell_type": "markdown",
   "metadata": {},
   "source": [
    "The approach for assigning shifts evenly is also the same."
   ]
  },
  {
   "cell_type": "code",
   "execution_count": 96,
   "metadata": {},
   "outputs": [],
   "source": [
    "min_shifts_per_nurse = (num_shifts * num_days) // num_nurses\n",
    "\n",
    "if num_shifts * num_days % num_nurses == 0:\n",
    "    max_shifts_per_nurse = min_shifts_per_nurse\n",
    "else:\n",
    "    max_shifts_per_nurse = min_shifts_per_nurse + 1\n",
    "    \n",
    "for n in all_nurses:\n",
    "    num_shifts_worked: Union[cp_model.LinearExpr, int] = 0\n",
    "    for d in all_days:\n",
    "        for s in all_shifts:\n",
    "            num_shifts_worked += shifts[(n, d, s)]\n",
    "    model.Add(min_shifts_per_nurse <= num_shifts_worked)\n",
    "    model.Add(num_shifts_worked <= max_shifts_per_nurse)"
   ]
  },
  {
   "cell_type": "markdown",
   "metadata": {},
   "source": [
    "### Objective\n",
    "\n",
    "This time, we have an objective function.\n",
    "\n",
    "We go through each request and check if the nurse has requested that shift for that day. If the request matches the solvers value, we essentially calculate 1 * 1. If not, we get 0 * 1 if the shift assigned but not requested, 0 * 0 if the shift is neither requested nor assigned, and 1 * 0 if the shift is requested but not assigned.\n",
    "\n",
    "So, when maximizing this sum, we reward assigning shifts on request."
   ]
  },
  {
   "cell_type": "code",
   "execution_count": 97,
   "metadata": {},
   "outputs": [],
   "source": [
    "model.Maximize(\n",
    "    sum(\n",
    "        shift_requests[n][d][s] * shifts[(n, d, s)]\n",
    "        for n in all_nurses\n",
    "        for d in all_days\n",
    "        for s in all_shifts\n",
    "    )\n",
    ")"
   ]
  },
  {
   "cell_type": "code",
   "execution_count": 98,
   "metadata": {},
   "outputs": [],
   "source": [
    "solver = cp_model.CpSolver()\n",
    "status = solver.Solve(model)"
   ]
  },
  {
   "cell_type": "code",
   "execution_count": 105,
   "metadata": {},
   "outputs": [
    {
     "name": "stdout",
     "output_type": "stream",
     "text": [
      "Solution:\n",
      "Day 0\n",
      "Nurse 1 works shift 0 (not requested).\n",
      "Nurse 2 works shift 1 (requested).\n",
      "Nurse 3 works shift 2 (requested).\n",
      "\n",
      "Day 1\n",
      "Nurse 1 works shift 0 (not requested).\n",
      "Nurse 2 works shift 1 (requested).\n",
      "Nurse 4 works shift 2 (requested).\n",
      "\n",
      "Day 2\n",
      "Nurse 0 works shift 2 (not requested).\n",
      "Nurse 3 works shift 0 (requested).\n",
      "Nurse 4 works shift 1 (requested).\n",
      "\n",
      "Day 3\n",
      "Nurse 0 works shift 2 (not requested).\n",
      "Nurse 2 works shift 0 (requested).\n",
      "Nurse 3 works shift 1 (requested).\n",
      "\n",
      "Day 4\n",
      "Nurse 0 works shift 2 (requested).\n",
      "Nurse 1 works shift 1 (not requested).\n",
      "Nurse 4 works shift 0 (requested).\n",
      "\n",
      "Day 5\n",
      "Nurse 0 works shift 2 (not requested).\n",
      "Nurse 3 works shift 0 (requested).\n",
      "Nurse 4 works shift 1 (requested).\n",
      "\n",
      "Day 6\n",
      "Nurse 0 works shift 2 (requested).\n",
      "Nurse 1 works shift 1 (not requested).\n",
      "Nurse 2 works shift 0 (not requested).\n",
      "\n",
      "Number of shift requests met = 13.0 (out of 20)\n",
      "Requests met per nurse: {(0, 'met'): 2, (0, 'not met'): 3, (1, 'met'): 0, (1, 'not met'): 4, (2, 'met'): 3, (2, 'not met'): 1, (3, 'met'): 4, (3, 'not met'): 0, (4, 'met'): 4, (4, 'not met'): 0}\n"
     ]
    }
   ],
   "source": [
    "if status == cp_model.OPTIMAL:\n",
    "    requests_met_per_nurse = {(n, option) : 0 for n in all_nurses for option in [\"met\", \"not met\"]}\n",
    "    print(\"Solution:\")\n",
    "    for d in all_days:\n",
    "        print(\"Day\", d)\n",
    "        for n in all_nurses:\n",
    "            for s in all_shifts:\n",
    "                if solver.Value(shifts[(n, d, s)]) == 1:\n",
    "                    if shift_requests[n][d][s] == 1:\n",
    "                        requests_met_per_nurse[(n, \"met\")] += 1\n",
    "                        print(\"Nurse\", n, \"works shift\", s, \"(requested).\")\n",
    "                    else:\n",
    "                        requests_met_per_nurse[(n, \"not met\")] += 1\n",
    "                        print(\"Nurse\", n, \"works shift\", s, \"(not requested).\")\n",
    "        print()\n",
    "    print(\n",
    "        f\"Number of shift requests met = {solver.ObjectiveValue()}\",\n",
    "        f\"(out of {num_nurses * min_shifts_per_nurse})\",\n",
    "    )\n",
    "    print(\"Requests met per nurse:\", requests_met_per_nurse)\n",
    "else:\n",
    "    print(\"No optimal solution found !\")"
   ]
  },
  {
   "cell_type": "markdown",
   "metadata": {},
   "source": [
    "### Results\n",
    "As we can see, we wouldn't want to be nurse 1 😥"
   ]
  }
 ],
 "metadata": {
  "kernelspec": {
   "display_name": "Python 3",
   "language": "python",
   "name": "python3"
  },
  "language_info": {
   "codemirror_mode": {
    "name": "ipython",
    "version": 3
   },
   "file_extension": ".py",
   "mimetype": "text/x-python",
   "name": "python",
   "nbconvert_exporter": "python",
   "pygments_lexer": "ipython3",
   "version": "3.7.3"
  }
 },
 "nbformat": 4,
 "nbformat_minor": 2
}
