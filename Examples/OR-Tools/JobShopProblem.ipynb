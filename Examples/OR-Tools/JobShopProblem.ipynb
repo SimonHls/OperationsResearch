{
 "cells": [
  {
   "cell_type": "markdown",
   "metadata": {},
   "source": [
    "### Job Shop Problem\n",
    "The following notebook contains the solution for [googles example JSP](https://developers.google.com/optimization/scheduling/job_shop) with some notes for clarity"
   ]
  },
  {
   "cell_type": "code",
   "execution_count": 107,
   "metadata": {},
   "outputs": [],
   "source": [
    "import collections\n",
    "from ortools.sat.python import cp_model"
   ]
  },
  {
   "cell_type": "code",
   "execution_count": 108,
   "metadata": {},
   "outputs": [],
   "source": [
    "jobs_data = [  # task = (machine_id, processing_time).\n",
    "    [(0, 3), (1, 2), (2, 2)],  # Job0\n",
    "    [(0, 2), (2, 1), (1, 4)],  # Job1\n",
    "    [(1, 4), (2, 3)],  # Job2\n",
    "]"
   ]
  },
  {
   "cell_type": "code",
   "execution_count": 109,
   "metadata": {},
   "outputs": [
    {
     "data": {
      "text/plain": [
       "21"
      ]
     },
     "execution_count": 109,
     "metadata": {},
     "output_type": "execute_result"
    }
   ],
   "source": [
    "machines_count = 1 + max(task[0] for job in jobs_data for task in job)\n",
    "all_machines = range(machines_count)\n",
    "# Computes horizon dynamically as the sum of all durations.\n",
    "# Horizon means the maximum time span of the problem.\n",
    "horizon = sum(task[1] for job in jobs_data for task in job)\n",
    "horizon"
   ]
  },
  {
   "cell_type": "code",
   "execution_count": 110,
   "metadata": {},
   "outputs": [],
   "source": [
    "model = cp_model.CpModel()"
   ]
  },
  {
   "cell_type": "code",
   "execution_count": 111,
   "metadata": {},
   "outputs": [],
   "source": [
    "# Named tuple to store information about created variables.\n",
    "task_type = collections.namedtuple(\"task_type\", \"start end interval\")\n",
    "\n",
    "# Named tuple to manipulate solution information.\n",
    "assigned_task_type = collections.namedtuple(\n",
    "    \"assigned_task_type\", \"start job index duration\"\n",
    ")"
   ]
  },
  {
   "cell_type": "markdown",
   "metadata": {},
   "source": [
    "### Adding variables\n",
    "For each task, we add three variables:\n",
    "\n",
    "- **start_var** describes the start time of the task\n",
    "- **end_var** describes the end time for the task\n",
    "- **interval_var** is used to define the temporal relationship of start_var and end_var. start_var must be before end_var and with a fixed distance (duration) between them\n",
    "\n",
    "The purpose of interval variables in OR-Tools' CpModel is to ensure that the start and end times of tasks, along with their durations, are properly aligned and respected during the solving process.\n",
    "\n",
    "#### Why do we store information in all_tasks and machine_to_intervals?\n",
    "By storing each task's start, end, and interval variables in all_tasks, we can easily access and reference these variables later when adding constraints, monitoring, or retrieving solved values.\n",
    "\n",
    "\n",
    "Organizing tasks by machine in machine_to_intervals helps in managing machine-specific constraints. For example, if we need to ensure that no two tasks on the same machine overlap, we can derive this information from machine_to_intervals and add the necessary constraints."
   ]
  },
  {
   "cell_type": "code",
   "execution_count": 112,
   "metadata": {},
   "outputs": [],
   "source": [
    "# Creates job intervals and add to the corresponding machine lists.\n",
    "all_tasks = {}\n",
    "machine_to_intervals = collections.defaultdict(list)\n",
    "\n",
    "for job_id, job in enumerate(jobs_data):\n",
    "    for task_id, task in enumerate(job):\n",
    "        machine, duration = task\n",
    "        suffix = f\"_{job_id}_{task_id}\"\n",
    "        \n",
    "        # start time of the task\n",
    "        start_var = model.NewIntVar(0, horizon, \"start\" + suffix)\n",
    "        \n",
    "        # end time of the task\n",
    "        end_var = model.NewIntVar(0, horizon, \"end\" + suffix)\n",
    "        \n",
    "        # interval time of the task\n",
    "        interval_var = model.NewIntervalVar(\n",
    "            start_var, duration, end_var, \"interval\" + suffix\n",
    "        )\n",
    "        \n",
    "        # store the information of the task\n",
    "        all_tasks[job_id, task_id] = task_type(\n",
    "            start=start_var, end=end_var, interval=interval_var\n",
    "        )\n",
    "        # contains all the interval variables for the same machine\n",
    "        machine_to_intervals[machine].append(interval_var)"
   ]
  },
  {
   "cell_type": "markdown",
   "metadata": {},
   "source": [
    "### Constraints\n",
    "\n",
    "1. We don't want tasks on the same machine to overlap. The model has a nice method for this: model.AddNoOverlap() which takes a list of interval variables.\n",
    "2. We want the tasks inside each job to be worked on in the right order. This \"precedence constraint\" makes sure that for a job with the task order (1, 2) the start time of task 2 is after the end time of task 1"
   ]
  },
  {
   "cell_type": "code",
   "execution_count": 113,
   "metadata": {},
   "outputs": [
    {
     "data": {
      "text/plain": [
       "[interval_0_0(start = start_0_0, size = 3, end = end_0_0),\n",
       " interval_1_0(start = start_1_0, size = 2, end = end_1_0)]"
      ]
     },
     "execution_count": 113,
     "metadata": {},
     "output_type": "execute_result"
    }
   ],
   "source": [
    "# Create and add disjunctive constraints.\n",
    "for machine in all_machines:\n",
    "    model.AddNoOverlap(machine_to_intervals[machine])\n",
    "    \n",
    "# what is added to the constraint? Here's is an example:\n",
    "machine_to_intervals[0]"
   ]
  },
  {
   "cell_type": "code",
   "execution_count": 114,
   "metadata": {},
   "outputs": [],
   "source": [
    "# Precedences inside a job.\n",
    "for job_id, job in enumerate(jobs_data):\n",
    "    for task_id in range(len(job) - 1):\n",
    "        model.Add(\n",
    "            all_tasks[job_id, task_id + 1].start >= all_tasks[job_id, task_id].end\n",
    "        )"
   ]
  },
  {
   "cell_type": "markdown",
   "metadata": {},
   "source": [
    "### Adding the objective\n",
    "\n",
    "We add obj_var, which will store our objective value, which is the shortest completion time for all tasks.\n",
    "\n",
    "#### What is AddMaxEquality?\n",
    "\n",
    "AddMaxEquality() takes an int var and a list of vars. The constraint ensures that the obj_var will be equal to the largest value among the variables listed in vars.\n",
    "\n",
    "#### Why Use AddMaxEquality?\n",
    "- **Task Completion:*** In the context of scheduling, you often need to know when the last task finishes. By setting the makespan variable to be the maximum of the end times of all tasks, you can determine when the entire project (composed of multiple jobs) is complete.\n",
    "\n",
    "- **Optimization:** When you aim to minimize the makespan, you instruct the solver to find a schedule that completes all tasks as quickly as possible, which typically means balancing the workload effectively across available resources."
   ]
  },
  {
   "cell_type": "code",
   "execution_count": 115,
   "metadata": {},
   "outputs": [
    {
     "data": {
      "text/plain": [
       "[end_0_2(0..21), end_1_2(0..21), end_2_1(0..21)]"
      ]
     },
     "execution_count": 115,
     "metadata": {},
     "output_type": "execute_result"
    }
   ],
   "source": [
    "# Makespan objective.\n",
    "obj_var = model.NewIntVar(0, horizon, \"makespan\")\n",
    "model.AddMaxEquality(\n",
    "    obj_var,\n",
    "    [all_tasks[job_id, len(job) - 1].end for job_id, job in enumerate(jobs_data)],\n",
    ")\n",
    "model.Minimize(obj_var)\n",
    "[all_tasks[job_id, len(job) - 1].end for job_id, job in enumerate(jobs_data)]"
   ]
  },
  {
   "cell_type": "markdown",
   "metadata": {},
   "source": [
    "### Solving the model and displaying the results"
   ]
  },
  {
   "cell_type": "code",
   "execution_count": 116,
   "metadata": {},
   "outputs": [],
   "source": [
    "solver = cp_model.CpSolver()\n",
    "status = solver.Solve(model)"
   ]
  },
  {
   "cell_type": "code",
   "execution_count": 117,
   "metadata": {},
   "outputs": [
    {
     "name": "stdout",
     "output_type": "stream",
     "text": [
      "Optimal Schedule Length: 11\n"
     ]
    }
   ],
   "source": [
    "if status != cp_model.OPTIMAL and status != cp_model.FEASIBLE:\n",
    "    # throw an error\n",
    "    raise ValueError(\"The problem does not have an optimal solution.\")\n",
    "\n",
    "print(\"Optimal Schedule Length: %i\" % solver.ObjectiveValue())"
   ]
  },
  {
   "cell_type": "code",
   "execution_count": 118,
   "metadata": {},
   "outputs": [],
   "source": [
    "# Create one list of assigned tasks per machine.\n",
    "assigned_jobs = collections.defaultdict(list)\n",
    "for job_id, job in enumerate(jobs_data):\n",
    "    for task_id, task in enumerate(job):\n",
    "        machine = task[0]\n",
    "        assigned_jobs[machine].append(\n",
    "            assigned_task_type(\n",
    "                start=solver.Value(all_tasks[job_id, task_id].start),\n",
    "                job=job_id,\n",
    "                index=task_id,\n",
    "                duration=task[1],\n",
    "            )\n",
    "        )"
   ]
  },
  {
   "cell_type": "code",
   "execution_count": 119,
   "metadata": {},
   "outputs": [
    {
     "name": "stdout",
     "output_type": "stream",
     "text": [
      "Optimal Schedule Length: 11.0\n",
      "Machine 0: job_1_task_0   job_0_task_0   \n",
      "           [0,2]          [2,5]          \n",
      "Machine 1: job_2_task_0   job_0_task_1   job_1_task_2   \n",
      "           [0,4]          [5,7]          [7,11]         \n",
      "Machine 2: job_1_task_1   job_2_task_1   job_0_task_2   \n",
      "           [2,3]          [4,7]          [7,9]          \n",
      "\n"
     ]
    }
   ],
   "source": [
    "# Create per machine output lines.\n",
    "output = \"\"\n",
    "for machine in all_machines:\n",
    "    # Sort by starting time.\n",
    "    assigned_jobs[machine].sort()\n",
    "    sol_line_tasks = \"Machine \" + str(machine) + \": \"\n",
    "    sol_line = \"           \"\n",
    "\n",
    "    for assigned_task in assigned_jobs[machine]:\n",
    "        name = f\"job_{assigned_task.job}_task_{assigned_task.index}\"\n",
    "        # add spaces to output to align columns.\n",
    "        sol_line_tasks += f\"{name:15}\"\n",
    "\n",
    "        start = assigned_task.start\n",
    "        duration = assigned_task.duration\n",
    "        sol_tmp = f\"[{start},{start + duration}]\"\n",
    "        # add spaces to output to align columns.\n",
    "        sol_line += f\"{sol_tmp:15}\"\n",
    "\n",
    "    sol_line += \"\\n\"\n",
    "    sol_line_tasks += \"\\n\"\n",
    "    output += sol_line_tasks\n",
    "    output += sol_line\n",
    "\n",
    "# Finally print the solution found.\n",
    "print(f\"Optimal Schedule Length: {solver.ObjectiveValue()}\")\n",
    "print(output)"
   ]
  },
  {
   "cell_type": "markdown",
   "metadata": {},
   "source": [
    "### Visualization\n",
    "\n",
    "I think its cool to see the result. This code is written by GPT-4o."
   ]
  },
  {
   "cell_type": "code",
   "execution_count": 123,
   "metadata": {},
   "outputs": [
    {
     "data": {
      "image/png": "[encoded data removed]",
      "text/plain": [
       "<Figure size 1000x600 with 1 Axes>"
      ]
     },
     "metadata": {},
     "output_type": "display_data"
    }
   ],
   "source": [
    "import matplotlib.pyplot as plt\n",
    "import matplotlib.patches as mpatches\n",
    "\n",
    "# Create the figure and axis for the Gantt chart\n",
    "fig, ax = plt.subplots(figsize=(10, 6))\n",
    "\n",
    "# Loop over each machine and its assigned tasks to add them to the chart\n",
    "for machine in assigned_jobs:\n",
    "    for assigned_task in assigned_jobs[machine]:\n",
    "        # Construct the name, start time, and duration of the task\n",
    "        name = f\"Job {assigned_task.job}, Task {assigned_task.index}\"\n",
    "        start = assigned_task.start\n",
    "        duration = assigned_task.duration\n",
    "\n",
    "        # Add a rectangle patch for the task\n",
    "        ax.add_patch(\n",
    "            mpatches.Rectangle(\n",
    "                (start, machine),  # (x, y) start coordinate\n",
    "                duration,          # width\n",
    "                0.8,               # height\n",
    "                facecolor=\"skyblue\", edgecolor=\"black\"\n",
    "            )\n",
    "        )\n",
    "\n",
    "        # Add text annotation for the task\n",
    "        ax.text(\n",
    "            start + duration / 2, machine + 0.4,  # Center text within the rectangle\n",
    "            name,\n",
    "            ha='center', va='center', fontsize=8, color='black'\n",
    "        )\n",
    "\n",
    "# Set the limits, labels, and title of the chart\n",
    "ax.set_xlim(0, solver.ObjectiveValue() + 10)\n",
    "ax.set_ylim(-1, len(all_machines) + 1)  # Assumes `machines` is a list of machine IDs\n",
    "ax.set_xlabel(\"Time\")\n",
    "ax.set_ylabel(\"Machine\")\n",
    "ax.set_title(\"Gantt Chart of Schedule\")\n",
    "\n",
    "# Set y-ticks to be machine IDs\n",
    "plt.yticks(range(len(all_machines)), [f\"Machine {m}\" for m in all_machines])\n",
    "\n",
    "# Show the plot\n",
    "plt.tight_layout()\n",
    "plt.show()\n"
   ]
  }
 ],
 "metadata": {
  "kernelspec": {
   "display_name": "Python 3",
   "language": "python",
   "name": "python3"
  },
  "language_info": {
   "codemirror_mode": {
    "name": "ipython",
    "version": 3
   },
   "file_extension": ".py",
   "mimetype": "text/x-python",
   "name": "python",
   "nbconvert_exporter": "python",
   "pygments_lexer": "ipython3",
   "version": "3.7.3"
  }
 },
 "nbformat": 4,
 "nbformat_minor": 2
}
